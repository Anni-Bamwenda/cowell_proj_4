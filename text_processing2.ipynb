{
 "metadata": {
  "language_info": {
   "codemirror_mode": {
    "name": "ipython",
    "version": 3
   },
   "file_extension": ".py",
   "mimetype": "text/x-python",
   "name": "python",
   "nbconvert_exporter": "python",
   "pygments_lexer": "ipython3",
   "version": "3.7.7-final"
  },
  "orig_nbformat": 2,
  "kernelspec": {
   "name": "python3",
   "display_name": "Python 3"
  }
 },
 "nbformat": 4,
 "nbformat_minor": 2,
 "cells": [
  {
   "source": [
    "# Testing the example from [here](https://towardsdatascience.com/exploratory-text-analysis-in-python-8cf42b758d9e)"
   ],
   "cell_type": "markdown",
   "metadata": {}
  },
  {
   "cell_type": "code",
   "execution_count": 46,
   "metadata": {},
   "outputs": [],
   "source": [
    "import json\n",
    "import numpy as np\n",
    "import pandas as pd\n",
    "import matplotlib.pyplot as plt\n",
    "import seaborn as sns\n",
    "sns.set(style=\"whitegrid\", context='talk')\n",
    "\n",
    "# Setting random seed\n",
    "seed = 123\n",
    "\n",
    "# Text preprocessing/analysis\n",
    "import re\n",
    "from nltk import word_tokenize, sent_tokenize, FreqDist\n",
    "from nltk.util import ngrams\n",
    "from nltk.corpus import stopwords\n",
    "from nltk.stem import WordNetLemmatizer\n",
    "from nltk.tokenize import RegexpTokenizer\n",
    "\n",
    "import pickle\n",
    "%load_ext autoreload\n",
    "%autoreload 2"
   ]
  },
  {
   "cell_type": "code",
   "execution_count": 47,
   "metadata": {},
   "outputs": [],
   "source": [
    "lt = pd.read_pickle(\"long_tweets.pkl\")"
   ]
  },
  {
   "cell_type": "code",
   "execution_count": 48,
   "metadata": {},
   "outputs": [
    {
     "output_type": "execute_result",
     "data": {
      "text/plain": [
       "                                             long_text\n",
       "0    how can you possibly organize for a political ...\n",
       "1    Agreeing this too 😣I'm so confused wit what st...\n",
       "2    Question to #AnimalActivists &amp; #Vegan sayi...\n",
       "4    mainstream veganism is very misconstrued. but ...\n",
       "6    me:\\nmy brain: lets just try n do low fat vega...\n",
       "..                                                 ...\n",
       "700  \"Vegan Miso Soup\" #food #eat #health #tastyfix...\n",
       "701  RT @ParitaKansagra_: Garlic &amp; Tomato Focac...\n",
       "702  Linen, Room, Body Mist | Fresh, Calming, Sooth...\n",
       "703  Made it to 72 hours in my fast. Longest one I’...\n",
       "704  RT @FFOODFESS: fess vegan raw chocolate cake w...\n",
       "\n",
       "[599 rows x 1 columns]"
      ],
      "text/html": "<div>\n<style scoped>\n    .dataframe tbody tr th:only-of-type {\n        vertical-align: middle;\n    }\n\n    .dataframe tbody tr th {\n        vertical-align: top;\n    }\n\n    .dataframe thead th {\n        text-align: right;\n    }\n</style>\n<table border=\"1\" class=\"dataframe\">\n  <thead>\n    <tr style=\"text-align: right;\">\n      <th></th>\n      <th>long_text</th>\n    </tr>\n  </thead>\n  <tbody>\n    <tr>\n      <th>0</th>\n      <td>how can you possibly organize for a political ...</td>\n    </tr>\n    <tr>\n      <th>1</th>\n      <td>Agreeing this too 😣I'm so confused wit what st...</td>\n    </tr>\n    <tr>\n      <th>2</th>\n      <td>Question to #AnimalActivists &amp;amp; #Vegan sayi...</td>\n    </tr>\n    <tr>\n      <th>4</th>\n      <td>mainstream veganism is very misconstrued. but ...</td>\n    </tr>\n    <tr>\n      <th>6</th>\n      <td>me:\\nmy brain: lets just try n do low fat vega...</td>\n    </tr>\n    <tr>\n      <th>...</th>\n      <td>...</td>\n    </tr>\n    <tr>\n      <th>700</th>\n      <td>\"Vegan Miso Soup\" #food #eat #health #tastyfix...</td>\n    </tr>\n    <tr>\n      <th>701</th>\n      <td>RT @ParitaKansagra_: Garlic &amp;amp; Tomato Focac...</td>\n    </tr>\n    <tr>\n      <th>702</th>\n      <td>Linen, Room, Body Mist | Fresh, Calming, Sooth...</td>\n    </tr>\n    <tr>\n      <th>703</th>\n      <td>Made it to 72 hours in my fast. Longest one I’...</td>\n    </tr>\n    <tr>\n      <th>704</th>\n      <td>RT @FFOODFESS: fess vegan raw chocolate cake w...</td>\n    </tr>\n  </tbody>\n</table>\n<p>599 rows × 1 columns</p>\n</div>"
     },
     "metadata": {},
     "execution_count": 48
    }
   ],
   "source": [
    "lt"
   ]
  },
  {
   "cell_type": "code",
   "execution_count": 60,
   "metadata": {},
   "outputs": [],
   "source": [
    "tw_list = lt[\"long_text\"].values.tolist()"
   ]
  },
  {
   "cell_type": "code",
   "execution_count": 61,
   "metadata": {},
   "outputs": [],
   "source": [
    "giant_string = \" \".join(tw_list)"
   ]
  },
  {
   "cell_type": "code",
   "execution_count": 62,
   "metadata": {},
   "outputs": [
    {
     "output_type": "execute_result",
     "data": {
      "text/plain": [
       "se clearer skies but every day is a great day...particularly if you have friends like these..as you know I love all animals..I celebrate our great planet..it’s biodiversity &amp; all the different species that enrich &amp; protect it : Be kind Be #Vegan https://t.co/0J7UUYRuyQ @streetreportpod @brittanyshiv10 @GrahamCD62 @VaderEats How many times do I have to tell you Lucky Charms are not #vegan? And it\\'s been like 8 years since I had a Boca burger :) Nah I’m okay with eating animals Check out what I just added to my closet on Poshmark: H &amp; M Large Tan Laser Cut Vegan Leather Tote. https://t.co/QBs4CNxcf9 via @poshmarkapp #shopmycloset Sunday, 01 November marks #WorldVeganDay, and \\n@UberEats has released its global report on vegan orders placed via the app with South Africa, unsurprisingly leading the pack. https://t.co/ZdABNznWa3 https://t.co/ecJyXugYBW Someone tagged me in a vegetarian meme on fb and said “idk if you are or not but you look like a vegetarian” 😂😂😂 do i look like a fucking vegan/vegetarian? RT @KkHotCommodity: I’d rather be a vegan. @streetreportpod @brittanyshiv10 @agargmd B12: bacteria in poop or soil. That and the other things you mention are a result of your pre-vegan fragility. Did you ever even open a nutritional calculator like Cronometer? Compare your diet to a whole plant foods diet (same amount of calories). Spooky goings on are at an end...just in time for Halloween. #sourdough  #vegan #localdelivery #halloween https://t.co/ClwMOExEGj @telltaleatheist Thats ur argument? Cmon man you rly don\\'t seem like a stupid guy to me, why do skeptics do this when it comes to veganism? Should my dog go #vegan?? We have heard about how the planet cannot sustain meat production for people and dogs.  We\\'ve heard how cruel the #meatindustry is.  We\\'ve heard that #meat is bad for humans - but what about #dogs?\\n\\nhttps://t.co/3sqnnvleEg Aching Vegan Sausage -this video doorbell says somebody\\'s outside\\n-oh fuck, I hope they leave before the pizza arrives, then we\\'d have to admit we\\'re home\\n-cancel the pizza\\n-good call. I need to go vegan 🌱 RT @PhaedraXTeddy: I\\'d like her for my beach buddy, \\nnot EAT her!\\n\\n #Vegan is EASY . https://t.co/R6zYxwLGFg https://t.co/6acIELwR2n my sister is #RT @goodful: Vegan breakfast and lunch from the garden!\\n\\nSpecial thanks to:\\nhttps://t.co/XfXTFNs7lw https://t.co/utjioe31bN Absolutely love love love my face masks from Red Bubble #vegan #veganfortheanimals #lovealllife #getthemessageacross 💚❤ https://t.co/shaJKE0Xg0 RT @KkHotCommodity: I’d rather be a vegan. very rare 👀 @Punongbayan_ It’s quite easy to be vegan if carinderias exist ie Jollijeep in makati. Problematic if you’re in BGC @eatmorebeanss When this is all said and done I’d love to stop by! I’ll even bring some of my quarantine dishes I’ve been perfecting as well that I’ll try my hand at making vegan friendly for the occasion. Follow &amp; RT to be in with a chance to win a case of our @TheBellfield beers 🍺, and @OnTheRoll_2012 Currywurst kit, including authentic German sausages (vegan options too)🌭 &amp; a homemade Currywurst Sauce to enjoy at home. #Win #Competition #BellfieldCompetition 🍻 https://t.co/ofIaix0Dyd What a unique play on words! This available name is catchy and memorable. https://t.co/gmbPdAW4S4 #Lettuce #Salad #Vegan #VeganFood #VeganRecipes #Restaurant #Healthy #Green #Organic #Deli #Delivery #Sandwich https://t.co/Bpdj0nbQJ6 We can always celebrate everyday as fri-yay! So, eat your favourite fries &amp; have fun #IRCTC #eCatering #fires #Frenchfries #foodies #foodlover #meal #indianfood #weightlossjourney #veggies #gym #kitchen #foodgasm #fresh #livemusic #catering #yummyfood #vegan #goodeats #eating https://t.co/XnfciBmRqe Fuck you go vegan RT @UofSCDining: Tavolino has vegan and gluten free options for you, like these Beyond Beef meatballs or made without gluten zoodles. https… Have you heard? @OykosUK have launched their first ever plant-based yoghurt alternative! 😋🥄 Oykos Dairy Free Chocolate Stracciatella combines thick creamy coconut milk with fine vegan chocolate shavings. It\\'s available nationwide at @sainsburys and @waitrose stores now! https://t.co/SHDcjI0K6V Once a jain Dentist told me to become vegan.I told him I hardly eat non veg .I eat only chicken occassionally.\\nHe was like we don\\'t even k!ll an ant &amp; they can\\'t see blood blah blah.\\nI asked who is Tadipaar.\\nHe was like 🤐🤐🤐🤐 RT @madebyjanay: @MsCynCity Hi, we sell vegan + cruelty free lipgloss &amp; accessories 💕 Just dropped my natural hair care line “Lux Crown” and would love if you guys could RT for me. It’s 100% natural and vegan, no parabens, no alcohols and no petroleum. 👑\\U0001f90e\\n\\nIg: @luxcrownco website: https://t.co/Vp5NLjqbfO https://t.co/jq7QZQvUd2 I can unknowingly go vegan for months and still I refuse to call myself that because of how dragged through the mud “veganism ideology” is.\\n\\nPeople have actually done more harm by being judgemental assholes rather than helping people through example. Vegans don\\'t do this to innocent animals. \\n\\nNon vegans do.\\n\\n#veganaf #animalrights #endspeciesism #endcarnism #COVID19 #vegan https://t.co/u3zuArGW4Q It\\'s chili day at Farmer\\'s Cafe! Stop by and sample our famous vegan @beyondmeat chili. Its the best in town. #shoplocal #shophinesvillega #madewithlove #healthyfoodnearme @ Farmer\\'s Natural Foods https://t.co/wJYWrXPmcz I’m vegan I’m not playing!! RT @vegansportskid: Congrats to @Honeybeeburger @PalisadianPost #vegan #govegan #whatveganseat @Mackthekreator Oop say less. And nah I don\\'t care about vegan leather 🥴 RT @Veganfunder: VEGAN CALLOUT 📢URGENT ONLY A FEW DAYS LEFT https://t.co/l5g1tvRqbo https://t.co/OCUAbkvavL Before going vegan I was not an egg person at all, so I have to be in the mood to eat it. @AldiUK pretty sure it\\'s still a vegan sausage roll but concerning that it\\'s packaged up wrong, definitely not a sheese and onion roll... https://t.co/zuHXsuHOzO The couscous AND the talk were SO good! We got such good feedback from ladies who found all the info and inspo helpful yay! Who wants this recipe? Highlights from both coming soon! That\\'s Mediterranean couscous w/ vegan feta cheese! TBH it was bomb. Almost as good as fair pay :) FUCK VEGAN CUPCAKES THEYRE TOO HARD TO MAKE YUMMY Order Delivery or Pick-up online at https://t.co/5kTWgrW6hr\\n\\n#restaurant #food #foodie #foodporn #instafood #miami #meditteranean #halal #lebanesefreshkitchen #downtownmiami #governmentcenter #uber #postmates #doordash #lunch #smallplates #healthy #fresh #organic #vegan https://t.co/TIBeVf5XbB 5 Ways a Vegan Diet Helps the Planet\\nAlso, add more #Moringa to add value to the diet our\\'s is a #Sustainable moringa helps planet much more.. \\nhttps://t.co/YxR76AOjoP I love this😁 We can always celebrate everyday as fri-yay! So, eat your favourite fries &amp; have fun #IRCTC #eCatering #fires #Frenchfries #foodies #foodlover #meal #indianfood #weightlossjourney #veggies #gym #kitchen #foodgasm #fresh #livemusic #catering #yummyfood #vegan #goodeats #eating https://t.co/XnfciBmRqe Amazing to me how veganism can make someone just shut right down. Question everything they say, yet when it comes to this they drop skepticism. @ThisOffendsMeTV hahahah nothin wrong with vegan weenies Just dropped my natural hair care line “Lux Crown” and would love if you guys could RT for me. It’s 100% natural and vegan, no parabens, no alcohols and no petroleum. 👑\\U0001f90e\\n\\nIg: @luxcrownco website: https://t.co/Vp5NLjqbfO https://t.co/jq7QZQvUd2 Hidden toxicity  of formulants and heavy metals not declared on label or tested for safety of glyphosate-based herbicides and other pesticides\\n\\n#EnvironmentalJustice #environment #CleanOcean #organicfarming #vegan #glutenfree #gfcf  https://t.co/wjyrlNJiBa ...who are mutant ninja piranhas on the side? I am 100% certain all religions and organizations pushing for vegan, vegetarian, and plant based diets are merely as a means of spiritual and emotional control via inherent copper toxicity that disconnects the spirit and mind from the body. ok $70 for a 5inch vegan cake?!? delcies said we don\\'t celebrate poor people\\'s birthdays 😭 Well he\\'s a democrat hack of course. He\\'s a failed candidate in the 2018 Democratic primary for PA\\'s 10th congressional district. He\\'s a Harvard Grad but actually Feigl-Ding\\'s work focuses on nutrition, health economics. He thinks Vegan\\'s are less susceptible to COVID-19 https://t.co/VfhFHLdAKJ RT @clownsorbet: I was\\nyour honey\\nbut you\\nwere\\nvegan @fatlee1989 @_La_Louve_ @StevePayne2018 @Halfmykingdom @UberFacts I agree eating those three items alone does not give a person all the nutrients they need. Just like eating meat alone doesn’t give a person all the nutrients one needs. But those three plants can replace your meat consumption and saves you money. Eating Vegan = Cheaper on a real note tho mandem been waitin for a vegan boy from mass art to start some beef w me ab my coat @peta You guys are sickos. I’m vegan myself and I hate your weird ass organization cult. Also your leader Ingrid Newkirk is the biggest Karen I ever seen. Book your table for a fantastic, tasty Sunday roast now! \\n\\nBeef or Chicken with Yorkshire pudding or vegan nut roast with a medley of veg &amp; not forgetting lashings of gravy for all!! \\n\\nLink 🔗 in the bio 👍 https://t.co/nxXeArDyrx https://t.co/WKlbk4QqLE @laurendaisydoo Have you tried their face powder, used it before I was vegan and it’s amazing x In the minouette shop: Psychedelic Art Apple Watch Band, Boho Artist iWatch Strap, 38mm, 42mm, Vegan Leather Watch Band Women, Men, Apple Watch Series 1 2 3 4 5 by SleepShoppin at https://t.co/qY8weZlQU6 https://t.co/8qcUPmsM3K 15 Delicious Chickpea Burgers - One Green Planet https://t.co/6vl6GaO4CY Yea bar-b-que beats vegan, but Biden beats Trump RT @__ShaheedZubro: I need to go vegan 🌱 engage tragic vegan @river_oh \"gelato isn\\'t vegan?\" \"Don\\'t worry, I\\'m not a preachy vegan I\\'m one of the good ones!\", I say while prepping my backpack to go liberate 1,542 mink from a fur farm in Blenheim, Ontario alongside 4 members of the Animal Liberation Front on March 30 1997 Well he\\'s a democrat hack of course. He\\'s a failed candidate in the 2018 Democratic primary for PA\\'s 10th congressional district. He\\'s a Harvard Grad but actually Feigl-Ding\\'s work focuses on nutrition, health economics. He thinks Vegan\\'s are less susceptible to COVID-19 https://t.co/VfhFHLdAKJ RT @PicturesqueBea2: @Kimmieeee__ +Free Shipping https://t.co/4WuYCjPkPx RT @eatingveganwme: Kronk\\'s vegan spinach puffs 😍 https://t.co/oiRvwbXIYK Well he\\'s a democrat hack of course. He\\'s a failed candidate in the 2018 Democratic primary for PA\\'s 10th congressional district. He\\'s a Harvard Grad but actually Feigl-Ding\\'s work focuses on nutrition, health economics. He thinks Vegan\\'s are less susceptible to COVID-19 https://t.co/VfhFHLdAKJ No wonder I don’t like them Absolutely @poliscialex @blink155pod We have a place in Minneapolis whose main feature is vegan Big Macs @leftarmisme That is a bowl of authentic Japanese Tonkotsu Ramen. Made with fresh noodles, traditionally made broth that simmers for a whole 24 hour period, &amp; slow-roasted pork slices. I can eat chicken-based and vegetarian/vegan ramen, but since I don\\'t eat red meat anymore I don\\'t do that. RT @eatingveganwme: Vegan Halloween Recipes 🎃🖤 https://t.co/YLEm3ndL7Z Vegans don\\'t do this to innocent animals. \\n\\nNon vegans do.\\n\\n#veganaf #animalrights #endspeciesism #endcarnism #COVID19 #vegan https://t.co/u3zuArGW4Q @Beccaasauruss Wait, drumsticks are vegan!? I want to go out on a limb here and say that #fossilfuels are not #vegan friendly #Animals feel the same emotions, happiness, sadness, fear &amp; joy. It\\'s why their feelings bring us #FridayFeelings🤗\\nDon\\'t let your diet undermine your #love💔\\n#Resist hate &amp; be #vegan💖\\n\\n@RickyGervais @Ivy_MiddletonUK @Protect_Wldlife @PeterEgan6 @RobRobbEdwards @zbleumoon @vegix https://t.co/o9ZoYbN2hT thinking about trader joes vegan banana bread I want some vegan pizza rolls @fatlee1989 @_La_Louve_ @StevePayne2018 @Halfmykingdom @UberFacts A person can spend a lot of money on foods vegan or not. It really depends on the person. So no judgement. I’m just saying it doesn’t have to be more expensive. This weather has me ready to make vegan mushroom pot roast and a fat ass pot of mashed potatoes 😋😋 Revolution Pressed Serum Bar is a nourishing serum in bar form. ✨Revolution is also portable!...or you can just stay home and use it.😉 Link in bio👆🏾 #ecofriendly #crueltyfreeskincare  #vegan #recyclable #reusable #crueltyfree #sustainable #greenbeauty #plasticfree https://t.co/FyhCXjqAVl RT @ope_acuteee: You don’t like grime? You ain’t got taste like vegan cheese easy red beans and rice | recipe from fatfree vegan kitchen https://t.co/snIIvxubE1 my goal this year was to volunteer with a non profit and bring fresh produce and vegan alternatives to food deserts and low income areas. everyone should have access to these items. by June we delivered over 13,000+ and counting. let’s discuss accessibility: https://t.co/RjHY3BU3XH @firo_twt borat joke! actually extremely topical! have a good night fi i hope you win the award for sexiest smartest vegan in new york xoxo @veganhippiesol @eatjust i love it, but i’ve heard a lot of vegans say they didn’t. I think you have to shake it well and scramble it w veg, seasoning, vegan cheese, etc for scrambled eggs, but I loved making carbonara w it and tempeh bacon 😭😭 Was yum, can confirm. https://t.co/okc3Iy7DLM PSA: @annieshomegrown makes accidentally vegan heat&amp;eat Cinnamon Rolls that come w Icing to put on top. YW. #Vegan #VeganFood #Treats #VeganTreats #Cinnamon #CinnamonRolls #ComfortFood #BakedGoods #FallIsMyFavorite #Breakfast #Dessert #PlantBased #VeganFoodPorn #WhatVeganKidsEat https://t.co/EUUjP3vAWc Check out what I just added to my closet on Poshmark: Carlos Santana NWT Vegan Leather Crossbody Purse. https://t.co/Ha4T3vSL7u via @poshmarkapp #shopmycloset A note on the cabin which is said to be vegan-friendly. \\n\\nSeems to go beyond the material makeup, with no hide-pattern finishes to the mouldings. https://t.co/hvcEAbMrSo Did u know that pigs have very few sweat glands &amp; instead they stay cool by going in the mud like Bardot is doing? So the next time someone says they\\'re \"sweating like a pig,\" you can share your knowledge! 🐽 #AnimalLiberation #peace #Vegan https://t.co/mtnrVWYmTZ Let\\'s Celebrate all the small things in life that make us feel warm and fuzzy inside..like a champagne fondant centre Round Up!!! YES!!!\\n\\n#Vegan #FridayFeeling #Derbyshire \\n#womaninbiz #crueltyfree #shopindie #UKsmallbiz #letterboxgifts #handmade https://t.co/EgbSzbzd8a Crowdsourcing Mornings: The Lotus And The Artichoke – Vegan Cookbook\\xa02.0 https://t.co/rELYxewu35 Crowdsourcing Mornings: The Lotus And The Artichoke – Vegan Cookbook\\xa02.0 https://t.co/LgNfcaBXhc Vegans don\\'t do this to innocent animals. \\n\\nNon vegans do.\\n\\n#veganaf #animalrights #endspeciesism #endcarnism #COVID19 #vegan https://t.co/u3zuArGW4Q i been vegan &amp; doing health &amp; spirit research for over 4yrs. ive unlearned, relearned &amp; came across more information than i can even express. im not listening to none of u niggas. u need. to grow. esp \"spiritual twitter\" lmaoo like wow. yall so capped out. Vegan Stuffing with Sage https://t.co/kt7wjOImvc https://t.co/zUELNb5V4a Well he\\'s a democrat hack of course. He\\'s a failed candidate in the 2018 Democratic primary for PA\\'s 10th congressional district. He\\'s a Harvard Grad but actually Feigl-Ding\\'s work focuses on nutrition, health economics. He thinks Vegan\\'s are less susceptible to COVID-19 https://t.co/VfhFHLdAKJ Little Ve’s can’t stop stop, won’t stop 🕺🏼\\nI would like to introduce to you all my brand new dishes! 🤩\\nLeft Hand: My very own fire Tinga Plate 🔥 On the right hand: Ve’s Vegan Ceviche 🍤🌱\\nThese new dishes going crazy! They def will be on this weekends menu 😁 https://t.co/93Gnzf6eUJ Introducing India\\'s first Vegan Egg made from Chick peas and Moong Dal.  Hurry!! \\n\\n#vegan #veganfood #vegetarian\\n#veganism\\nhttps://t.co/8kJXI9JCht\\nhttps://t.co/6BkFJ3iWkz Angela wants to turn the world Vegan...that’s hardly clout chasing 😂 Vegans don\\'t do this to innocent animals. \\n\\nNon vegans do.\\n\\n#veganaf #animalrights #endspeciesism #endcarnism #COVID19 #vegan https://t.co/u3zuArGW4Q I am 100% certain all religions and organizations pushing for vegan, vegetarian, and plant based diets are merely as a means of spiritual and emotional control via inherent copper toxicity that disconnects the spirit and mind from the body. @ikasquidward rice &amp; beans. soy tacos. vegan nuggies. pasta. beyond burgers. sandwiches. all kinds of soups! wraps &amp; burritos. chinese “chicken” made w soy curls. so much I spent the day living my ideal day in the life! What does your ideal day look like? Is it similar or different to your current routine? #YouTube #smallyoutuber #smallyoutubercommunity #work #healthy #Vegan #WorkFromHome \\nhttps://t.co/BZ3ghUDzfC https://t.co/nr4lxtDoWy @veganhippiesol @eatjust I wouldn’t of guessed egg is vegan, is it? Better skin, longer life! So I might? Move to Norwich?\\n\\nBig vegan presence.\\n\\nRelatively cheap.\\n\\nUniversity city.\\n\\nWon\\'t get relentlessly rinsed for my southern accent like I would up north.\\n\\nBeautiful historic architecture. p. s. - plus plus on the vegan protein if you do not want to eat meat or substitute meat tribe Lovers Cheese &amp; Onion Pie served with purple sprouting broccoli 🥧. Swipe along for a closer look! Perfect to warm those winter bones &amp; it’s vegan friendly 😁 #WinterPie https://t.co/DEigVPh1Vc Almond milk &gt; any milk I’m not a vegan but almond milk tastes way better Well he\\'s a democrat hack of course. He\\'s a failed candidate in the 2018 Democratic primary for PA\\'s 10th congressional district. He\\'s a Harvard Grad but actually Feigl-Ding\\'s work focuses on nutrition, health economics. He thinks Vegan\\'s are less susceptible to COVID-19 https://t.co/VfhFHLdAKJ This super quick and easy vegan mayonnaise is something of a miracle. Uses no fancy ingredients and comes together in seconds. Make it in small batches as and when you need it, though it will keep for a few days in the fridge. #Veganuary #VeganRecipe https://t.co/QG3jx7MIkl https://t.co/QJGMfrAPtl RT @HarryNk_: @DidierLefa I\\'m vegan Lettuce Munch! What a unique play on words! This available name is catchy and fun. https://t.co/O5jlyhIGEZ #Lettuce #Salad #Vegan #VeganFood #VeganRecipes #Restaurant #Healthy #Green #Organic #Deli #Delivery #Sandwich https://t.co/iPgHkkYtqF @leftfism @RedJohnBounds I\\'m not that interested in her to be honest. But you used her as an example, but from what I could tell, she was never actually a vegan.\\n\\nThere needs to be a distinction between vegan and plant based. @veganhippiesol I am not vegan and also not super into eggs. Lately though I’ve been melting some bitchin’ sauce which is vegan and mixing it into eggs. It’s spicy and delicious 😋 Me about the “vegan queso” made w/ nuts. RT @JackBradders: If you say vegan food is boring I’m just gonna presume you can’t cook for shit @glossykyu January 29th 2004\\nAladdin\\nvegan burgers &amp; salad!! \"Vegan Miso Soup\" #food #eat #health #tastyfix https://t.co/n5MmGBvQjw RT @ParitaKansagra_: Garlic &amp; Tomato Focaccia #VEGAN https://t.co/ZwdUG9pbSP Linen, Room, Body Mist | Fresh, Calming, Soothing and Uplifting Scents 100ml https://t.co/NaSJr0d6hB #CrueltyFree #Organic #Vegan #Moisturising #RawPassionUk #Caninecare #chemical free #skinfood #Etsy #Menfriendly #Luxurious https://t.co/Af2wzDyV3q Made it to 72 hours in my fast. Longest one I’ve ever done. I’m going to have a microwave vegan lasagna for 360 calories..yeah depression meal. RT @FFOODFESS: fess vegan raw chocolate cake with banana~ selamat mam dessert 🤗🤗 https://t.co/7xPSwnevAh'"
      ]
     },
     "metadata": {},
     "execution_count": 62
    }
   ],
   "source": [
    "giant_string"
   ]
  },
  {
   "cell_type": "code",
   "execution_count": null,
   "metadata": {},
   "outputs": [],
   "source": []
  }
 ]
}